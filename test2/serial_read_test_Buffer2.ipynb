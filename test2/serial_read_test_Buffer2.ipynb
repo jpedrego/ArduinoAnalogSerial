{
 "cells": [
  {
   "cell_type": "code",
   "execution_count": 1,
   "metadata": {},
   "outputs": [
    {
     "name": "stdout",
     "output_type": "stream",
     "text": [
      "Using matplotlib backend: Qt5Agg\n",
      "Populating the interactive namespace from numpy and matplotlib\n"
     ]
    }
   ],
   "source": [
    "%pylab\n",
    "import serial\n",
    "from time import sleep"
   ]
  },
  {
   "cell_type": "code",
   "execution_count": 2,
   "metadata": {},
   "outputs": [],
   "source": [
    "# sudo chmod a+rw /dev/ttyUSB0\n",
    "baudrate = 115200\n",
    "port     = '/dev/ttyUSB0'\n",
    "ser_arduino = serial.Serial(port,baudrate, timeout=0.1)"
   ]
  },
  {
   "cell_type": "code",
   "execution_count": 5,
   "metadata": {},
   "outputs": [],
   "source": [
    "def get_data(n_buffers):\n",
    "    buf0_size = 256;\n",
    "    buf1_size = 4*buf0_size;\n",
    "    buf2_size = 2*buf0_size;\n",
    "    buf1 = zeros(buf1_size)\n",
    "    buf2 = zeros(buf2_size)\n",
    "\n",
    "    data = zeros((2,n_buffers*buf0_size),dtype=int)\n",
    "\n",
    "    flag_check = True    \n",
    "    h = int.from_bytes(ser_arduino.read(), byteorder='big', signed=True)\n",
    "    j = -1\n",
    "    while j < (n_buffers-1):\n",
    "        j+=1\n",
    "        if flag_check :\n",
    "            while (h!=-1):\n",
    "                h = int.from_bytes(ser_arduino.read(), byteorder='big', signed=True)\n",
    "            flag_check = False        \n",
    "\n",
    "        # Microseconds from the start\n",
    "        for i in range(0,buf1_size):\n",
    "            buf1[i] = int.from_bytes(ser_arduino.read(), byteorder='big', signed=False)\n",
    "        for i in range(0,buf2_size):\n",
    "            buf2[i] = int.from_bytes(ser_arduino.read(), byteorder='big', signed=False)\n",
    "\n",
    "        # Store data:\n",
    "        Bit1 = reshape(buf1,(buf0_size,4))\n",
    "        data[0,j*buf0_size:(j+1)*buf0_size] = Bit1[:,0] + Bit1[:,1]*2**8 + Bit1[:,2]*2**16 + Bit1[:,3]*2**24\n",
    "\n",
    "        Bit2 = reshape(buf2,(buf0_size,2))\n",
    "        data[1,j*buf0_size:(j+1)*buf0_size] = Bit2[:,0] + Bit2[:,1]*2**8\n",
    "\n",
    "        h = int.from_bytes(ser_arduino.read(), byteorder='big', signed=True)        \n",
    "    return data"
   ]
  },
  {
   "cell_type": "code",
   "execution_count": 38,
   "metadata": {},
   "outputs": [
    {
     "name": "stdout",
     "output_type": "stream",
     "text": [
      "Inside each buffer:\n",
      "Mean dt[us]= 120.61176470588235\n",
      "Std dt[us]= 0.6982170419464269\n",
      "Between each buffer:\n",
      "Mean dt[us]= 125259.0\n",
      "Std dt[us]= 1.7320508075688772\n"
     ]
    },
    {
     "data": {
      "image/png": "[encoded data removed]",
      "text/plain": [
       "<Figure size 432x288 with 3 Axes>"
      ]
     },
     "metadata": {
      "needs_background": "light"
     },
     "output_type": "display_data"
    }
   ],
   "source": [
    "n_buffers = 5\n",
    "data = get_data(n_buffers)\n",
    "\n",
    "figure(1); clf();\n",
    "subplot(311)\n",
    "plot(data[0,:])\n",
    "ylabel('time[us]')\n",
    "subplot(312)\n",
    "plot(diff(data[0,:]))\n",
    "ylabel('dt[us]')\n",
    "subplot(313)\n",
    "plot(data[1,:])\n",
    "ylabel('Voltage [10Bits]')\n",
    "\n",
    "# Get the stats inside the buffers:\n",
    "buf0_size = 256\n",
    "d0 = data[0,:]\n",
    "d1 = reshape(d0,(n_buffers,buf0_size))\n",
    "dd = diff(d1,axis=1)\n",
    "print('Inside each buffer:')\n",
    "print('Mean dt[us]=',mean(dd))\n",
    "print('Std dt[us]=',std(diff(data[1,:])))\n",
    "\n",
    "print('Between each buffer:')\n",
    "aux = zeros(n_buffers-1)\n",
    "for i in range(0,n_buffers-1):\n",
    "    aux[i] = data[0,(i+1)*buf0_size] - data[0,(i+1)*buf0_size-1]\n",
    "print('Mean dt[us]=',mean(aux))\n",
    "print('Std dt[us]=',std(aux))"
   ]
  }
 ],
 "metadata": {
  "kernelspec": {
   "display_name": "Python 3",
   "language": "python",
   "name": "python3"
  },
  "language_info": {
   "codemirror_mode": {
    "name": "ipython",
    "version": 3
   },
   "file_extension": ".py",
   "mimetype": "text/x-python",
   "name": "python",
   "nbconvert_exporter": "python",
   "pygments_lexer": "ipython3",
   "version": "3.7.1"
  }
 },
 "nbformat": 4,
 "nbformat_minor": 2
}
